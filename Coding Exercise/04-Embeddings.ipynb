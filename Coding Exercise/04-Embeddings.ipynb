{
 "cells": [
  {
   "cell_type": "markdown",
   "metadata": {},
   "source": [
    "## Create Embeddings\n",
    "Embeddings in AI models are a way to represent non-numeric data in a numerical format that a machine learning algorithm can understand. They are essentially a transformation of raw data into a set of numbers, often in the form of a vector. Embeddings capture the semantic and syntactic patterns in the data, enabling the model to understand and learn from the data in a meaningful way. "
   ]
  },
  {
   "cell_type": "markdown",
   "metadata": {},
   "source": [
    "### Install the Semantic Kernel Nuget"
   ]
  },
  {
   "cell_type": "code",
   "execution_count": null,
   "metadata": {
    "dotnet_interactive": {
     "language": "csharp"
    },
    "polyglot_notebook": {
     "kernelName": "csharp"
    }
   },
   "outputs": [],
   "source": [
    "#r \"nuget: Microsoft.SemanticKernel, 1.0.0-beta3\""
   ]
  },
  {
   "cell_type": "markdown",
   "metadata": {},
   "source": [
    "The following code will provide a function to generate embeddings from a given text:"
   ]
  },
  {
   "cell_type": "code",
   "execution_count": null,
   "metadata": {
    "dotnet_interactive": {
     "language": "csharp"
    },
    "polyglot_notebook": {
     "kernelName": "csharp"
    }
   },
   "outputs": [],
   "source": [
    "using Azure;\n",
    "using Azure.AI.OpenAI;\n",
    "\n",
    "string azureEndpoint = \"\";\n",
    "string apiKey = \"\";\n",
    "string embeddingModelName = \"\";\n",
    "Uri serviceName = new (azureEndpoint);\n",
    "\n",
    "public async Task<IReadOnlyList<float>> GetEmbeddingsForText(string wikiText)\n",
    "{\n",
    "    AzureKeyCredential credentials = new (apiKey);\n",
    "\n",
    "    OpenAIClient openAIClient = new (serviceName, credentials);\n",
    "\n",
    "    EmbeddingsOptions embeddingOptions = new (wikiText.Replace(Environment.NewLine, string.Empty));\n",
    "\n",
    "    var result = await openAIClient.GetEmbeddingsAsync(embeddingModelName, embeddingOptions);\n",
    "    var queryEmbeddings = result.Value.Data[0].Embedding;\n",
    "    return queryEmbeddings;\n",
    "}"
   ]
  },
  {
   "cell_type": "markdown",
   "metadata": {},
   "source": [
    "Like mentioned above the given input is represented as a numeric vector. If we want to compare a prompt to another we can do this by simply representing them as vectors and compare their numeric values. One way of doing this is by calculating a cosine distance between the vectors.  \n",
    "The method below will calculate the cosine distance between two vectors:"
   ]
  },
  {
   "cell_type": "code",
   "execution_count": null,
   "metadata": {
    "dotnet_interactive": {
     "language": "csharp"
    },
    "polyglot_notebook": {
     "kernelName": "csharp"
    }
   },
   "outputs": [],
   "source": [
    "public static double CosineSimilarity(float[] vectorA, float[] vectorB)\n",
    "{\n",
    "   var dotProduct = 0.0;\n",
    "   var magnitudeA = 0.0;\n",
    "   var magnitudeB = 0.0;\n",
    "\n",
    "   for (var i = 0; i < vectorA.Length; i++)\n",
    "   {\n",
    "       dotProduct += vectorA[i] * vectorB[i];\n",
    "       magnitudeA += Math.Pow(vectorA[i], 2);\n",
    "       magnitudeB += Math.Pow(vectorB[i], 2);\n",
    "   }\n",
    "\n",
    "   return dotProduct / (Math.Sqrt(magnitudeA) * Math.Sqrt(magnitudeB));\n",
    "}\n"
   ]
  },
  {
   "cell_type": "markdown",
   "metadata": {},
   "source": [
    "Try to calculate the closest sentence to the given prompt"
   ]
  },
  {
   "cell_type": "code",
   "execution_count": null,
   "metadata": {
    "dotnet_interactive": {
     "language": "csharp"
    },
    "polyglot_notebook": {
     "kernelName": "csharp"
    }
   },
   "outputs": [],
   "source": [
    "var originalText = \"I really love animals.\";\n",
    "var texts = new List<string> \n",
    "{ \n",
    "   \"This is my cat Garfield. He loves Lasagna and hates Mondays.\", \n",
    "   \"Todays weather forecast shows a lot of rain.\", \n",
    "   \"Text 3 is stupendiously difficult to read. Do not attempt to read it.\",\n",
    "   \"I'm jealous of my parents. I'll never have a kid as cool as theirs, one who is smart, has devilishly good looks, and knows all sorts of funny sayings.\",\n",
    "   \"Why was the new IT official hospitalized? He accidentally touched the firewall.\"\n",
    "}; \n",
    "\n",
    "var originalEmbedding = await GetEmbeddingsForText(originalText);\n",
    "\n",
    "string closestMatch = null;\n",
    "double highestSimilarity = -1;\n",
    "\n",
    "foreach (string text in texts)\n",
    "{\n",
    "   //insert your code here\n",
    "   //double similarity = ...your code;\n",
    "\n",
    "   if (similarity > highestSimilarity)\n",
    "   {\n",
    "      highestSimilarity = similarity;\n",
    "      closestMatch = text;\n",
    "   }\n",
    "}\n",
    "\n",
    "Console.WriteLine($\"The closest match for '{originalText}' is '{closestMatch}'\");"
   ]
  }
 ],
 "metadata": {
  "kernelspec": {
   "display_name": ".NET (C#)",
   "language": "C#",
   "name": ".net-csharp"
  },
  "language_info": {
   "name": "polyglot-notebook"
  },
  "polyglot_notebook": {
   "kernelInfo": {
    "defaultKernelName": "csharp",
    "items": [
     {
      "aliases": [],
      "languageName": "csharp",
      "name": "csharp"
     }
    ]
   }
  }
 },
 "nbformat": 4,
 "nbformat_minor": 2
}
