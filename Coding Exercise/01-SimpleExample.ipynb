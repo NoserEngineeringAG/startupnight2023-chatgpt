{
 "cells": [
  {
   "cell_type": "markdown",
   "metadata": {},
   "source": [
    "# Simple Example\n",
    "\n",
    "In this example you will learn the basics of how to use ChatGPT from code.  \n",
    "Keep in mind that the Tools used are not officially released yet, so the implementation is subject to change.\n",
    "\n",
    "### Install the necessary Nugets"
   ]
  },
  {
   "cell_type": "code",
   "execution_count": null,
   "metadata": {
    "dotnet_interactive": {
     "language": "csharp"
    },
    "polyglot_notebook": {
     "kernelName": "csharp"
    }
   },
   "outputs": [],
   "source": [
    "#r \"nuget: Microsoft.SemanticKernel, 1.0.0-beta3\""
   ]
  },
  {
   "cell_type": "markdown",
   "metadata": {},
   "source": [
    "### Create a Semantic Kernel\n",
    "Semantic Kernel is an open-source SDK developed by Microsoft. It allows developers to easily integrate AI services like OpenAI, Azure OpenAI, and Hugging Face with conventional programming languages like C# and Python."
   ]
  },
  {
   "cell_type": "code",
   "execution_count": null,
   "metadata": {
    "dotnet_interactive": {
     "language": "csharp"
    },
    "polyglot_notebook": {
     "kernelName": "csharp"
    }
   },
   "outputs": [],
   "source": [
    "using Microsoft.SemanticKernel;\n",
    "using Microsoft.SemanticKernel.Connectors.AI.OpenAI;\n",
    "\n",
    "var builder = new KernelBuilder();"
   ]
  },
  {
   "cell_type": "markdown",
   "metadata": {},
   "source": [
    "### Configure and Build the Kernel\n",
    "Use the created resources from the previous exercise in the following code examples"
   ]
  },
  {
   "cell_type": "code",
   "execution_count": null,
   "metadata": {
    "dotnet_interactive": {
     "language": "csharp"
    },
    "polyglot_notebook": {
     "kernelName": "csharp"
    }
   },
   "outputs": [],
   "source": [
    "builder.WithAzureChatCompletionService(\n",
    "         \"\",  // Azure OpenAI Deployment Name\n",
    "         \"\",  // Azure OpenAI Endpoint\n",
    "         \"\"); // Azure OpenAI Key\n",
    "\n",
    "var kernel = builder.Build();"
   ]
  },
  {
   "cell_type": "markdown",
   "metadata": {},
   "source": [
    "### Create a Semantic Function\n",
    "A Semantic Function, also known as a prompt template, is used to define the input text that will be passed in the API call to get a response. When defining a semantic function as part of your request, the details are injected into the system message using specific syntax that the model has been trained on. This means that functions consume tokens in your prompt and you can apply prompt engineering techniques to optimize the performance of your function calls."
   ]
  },
  {
   "cell_type": "code",
   "execution_count": null,
   "metadata": {
    "dotnet_interactive": {
     "language": "csharp"
    },
    "polyglot_notebook": {
     "kernelName": "csharp"
    }
   },
   "outputs": [],
   "source": [
    "var prompt = @\"{{$input}}\n",
    "\n",
    "Answer like an irish lad.\";\n",
    "\n",
    "var semanticFunction = kernel.CreateSemanticFunction(prompt, requestSettings: new OpenAIRequestSettings \n",
    "{ MaxTokens = 300 });"
   ]
  },
  {
   "cell_type": "markdown",
   "metadata": {},
   "source": [
    "### Create and Send a Prompt to ChatGPT"
   ]
  },
  {
   "cell_type": "code",
   "execution_count": null,
   "metadata": {
    "dotnet_interactive": {
     "language": "csharp"
    },
    "polyglot_notebook": {
     "kernelName": "csharp"
    }
   },
   "outputs": [],
   "source": [
    "var question = \"Where does the dark color of Guiness come from?\";\n",
    "var answer = (await kernel.RunAsync(question, semanticFunction)).ToString().Replace(\".\", \".\" + Environment.NewLine);\n",
    "\n",
    "Console.WriteLine(answer);"
   ]
  },
  {
   "cell_type": "markdown",
   "metadata": {},
   "source": [
    "Congratulations! You have now witnessed the power of AI.  \n",
    "Try out your newly found power and discover the mysteries of the universe!  \n",
    "Try to ask for the meaning of life, but create a new semantic function that answers like an old pirate."
   ]
  },
  {
   "cell_type": "code",
   "execution_count": null,
   "metadata": {
    "dotnet_interactive": {
     "language": "csharp"
    },
    "polyglot_notebook": {
     "kernelName": "csharp"
    }
   },
   "outputs": [],
   "source": [
    "//insert your code here!\n",
    "\n",
    "//create a new semantic function\n",
    "\n",
    "//generate an answer"
   ]
  }
 ],
 "metadata": {
  "kernelspec": {
   "display_name": ".NET (C#)",
   "language": "C#",
   "name": ".net-csharp"
  },
  "language_info": {
   "name": "polyglot-notebook"
  },
  "polyglot_notebook": {
   "kernelInfo": {
    "defaultKernelName": "csharp",
    "items": [
     {
      "aliases": [],
      "languageName": "csharp",
      "name": "csharp"
     }
    ]
   }
  }
 },
 "nbformat": 4,
 "nbformat_minor": 2
}
